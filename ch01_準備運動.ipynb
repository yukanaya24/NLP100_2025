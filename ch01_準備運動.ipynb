{
  "nbformat": 4,
  "nbformat_minor": 0,
  "metadata": {
    "colab": {
      "provenance": [],
      "authorship_tag": "ABX9TyP6hEK7GK3pABI/c1pDD2Qv"
    },
    "kernelspec": {
      "name": "python3",
      "display_name": "Python 3"
    },
    "language_info": {
      "name": "python"
    }
  },
  "cells": [
    {
      "cell_type": "markdown",
      "source": [
        "# [第1章: 準備運動](https://nlp100.github.io/2025/ja/ch01.html)"
      ],
      "metadata": {
        "id": "KPtBzi7406dm"
      }
    },
    {
      "cell_type": "code",
      "source": [
        "import time"
      ],
      "metadata": {
        "id": "2T4aRbi5OJ4Z"
      },
      "execution_count": null,
      "outputs": []
    },
    {
      "cell_type": "markdown",
      "source": [
        "## 00. パタトクカシーー\n",
        "2つの文字列「パトカー」と「タクシー」の文字を先頭から交互に連結し、文字列「パタトクカシーー」を得よ"
      ],
      "metadata": {
        "id": "w1RU-DPtKcqM"
      }
    },
    {
      "cell_type": "code",
      "source": [
        "string1 = \"パトカー\"\n",
        "string2 = \"タクシー\"\n",
        "\n",
        "result = \"\"\n",
        "for i in range(len(string1)):\n",
        "    result += string1[i] + string2[i]\n",
        "\n",
        "print(result)"
      ],
      "metadata": {
        "colab": {
          "base_uri": "https://localhost:8080/"
        },
        "id": "DFfZ6J2BKylB",
        "outputId": "39429aaf-e9e8-43f0-a95d-0868f0c3018b"
      },
      "execution_count": null,
      "outputs": [
        {
          "output_type": "stream",
          "name": "stdout",
          "text": [
            "パタトクカシーー\n"
          ]
        }
      ]
    },
    {
      "cell_type": "code",
      "source": [
        "string1 :str = \"パトカー\"\n",
        "string2 :str = \"タクシー\"\n",
        "\n",
        "result :str = \"\".join(s1 + s2 for s1, s2 in zip(string1, string2))\n",
        "print(result)"
      ],
      "metadata": {
        "colab": {
          "base_uri": "https://localhost:8080/"
        },
        "id": "E-7aUMe_L_1i",
        "outputId": "781a0f3f-ffb2-4d31-d1f1-03cfe674d431"
      },
      "execution_count": null,
      "outputs": [
        {
          "output_type": "stream",
          "name": "stdout",
          "text": [
            "パタトクカシーー\n"
          ]
        }
      ]
    },
    {
      "cell_type": "markdown",
      "source": [
        "## 01. タクシー\n",
        "文字列「パタトクカシーー」の2, 4, 6, 8文字目を取り出し、それらを連結した文字列を得よ"
      ],
      "metadata": {
        "id": "UnO3e-sevL-T"
      }
    },
    {
      "cell_type": "code",
      "source": [
        "string :str = \"パタトクカシーー\"\n",
        "\n",
        "result = \"\"\n",
        "\n",
        "for i in range(len(string)):\n",
        "    if i % 2 == 1:\n",
        "        result += string[i]\n",
        "\n",
        "print(result)"
      ],
      "metadata": {
        "colab": {
          "base_uri": "https://localhost:8080/"
        },
        "id": "7Tl219pyQS43",
        "outputId": "6e47dbd1-926a-448c-c093-a9af8c0d5981"
      },
      "execution_count": null,
      "outputs": [
        {
          "output_type": "stream",
          "name": "stdout",
          "text": [
            "タクシー\n"
          ]
        }
      ]
    },
    {
      "cell_type": "code",
      "source": [
        "string :str = \"パタトクカシーー\"\n",
        "\n",
        "result = string[1::2]\n",
        "print(result)"
      ],
      "metadata": {
        "colab": {
          "base_uri": "https://localhost:8080/"
        },
        "id": "NAwkIbPpUBQB",
        "outputId": "dc7b8dd0-e85a-4fec-ddc2-811bc95a221f"
      },
      "execution_count": null,
      "outputs": [
        {
          "output_type": "stream",
          "name": "stdout",
          "text": [
            "タクシー\n"
          ]
        }
      ]
    },
    {
      "cell_type": "code",
      "source": [
        "string :str = \"パタトクカシーー\"\n",
        "\n",
        "result = \"\".join([string[i] for i in range(len(string)) if i % 2 == 1])\n",
        "print(result)"
      ],
      "metadata": {
        "colab": {
          "base_uri": "https://localhost:8080/"
        },
        "id": "wJDJ6U33U4V-",
        "outputId": "12282805-3ea7-4f05-cf82-0ed99d74871d"
      },
      "execution_count": null,
      "outputs": [
        {
          "output_type": "stream",
          "name": "stdout",
          "text": [
            "タクシー\n"
          ]
        }
      ]
    },
    {
      "cell_type": "markdown",
      "source": [
        "## 02. 文字列の逆順\n",
        "文字列\"stressed\"の文字を逆に(末尾から先頭に向かって)並べた文字列を得よ"
      ],
      "metadata": {
        "id": "2JP1bS2CgcgE"
      }
    },
    {
      "cell_type": "code",
      "source": [
        "string :str = \"stressed\"\n",
        "\n",
        "for i in range((len(string) - 1), -1, -1):\n",
        "    print(string[i], end=\"\")"
      ],
      "metadata": {
        "colab": {
          "base_uri": "https://localhost:8080/"
        },
        "id": "SuT9TgWDWS6T",
        "outputId": "90f74e2c-a10d-42c7-fc13-e8c6131ee95e"
      },
      "execution_count": null,
      "outputs": [
        {
          "output_type": "stream",
          "name": "stdout",
          "text": [
            "desserts"
          ]
        }
      ]
    },
    {
      "cell_type": "code",
      "source": [
        "string :str = \"stressed\"\n",
        "reversed_string = string[::-1]\n",
        "print(reversed_string)"
      ],
      "metadata": {
        "colab": {
          "base_uri": "https://localhost:8080/"
        },
        "id": "9DSrzqlXb6Bf",
        "outputId": "c16da3fb-51ec-4722-b390-2d2e92189709"
      },
      "execution_count": null,
      "outputs": [
        {
          "output_type": "stream",
          "name": "stdout",
          "text": [
            "desserts\n"
          ]
        }
      ]
    },
    {
      "cell_type": "markdown",
      "source": [
        "## 03. 円周率 Permalink\n",
        "“Now I need a drink, alcoholic of course, after the heavy lectures involving quantum mechanics.”という文を単語に分解し，  \n",
        "各単語の（アルファベットの）文字数を先頭から出現順に並べたリストを作成せよ．"
      ],
      "metadata": {
        "id": "3Xj6U7bfO_Sv"
      }
    },
    {
      "cell_type": "code",
      "source": [
        "string :str = \"Now I need a drink, alcoholic of course, after the heavy lectures involving quantum mechanics.\"\n",
        "new_list :list = []\n",
        "\n",
        "string = string.replace(\",\", \"\").replace(\".\", \"\")\n",
        "for word in string.split():\n",
        "    new_list.append(len(word))\n",
        "\n",
        "print(new_list)"
      ],
      "metadata": {
        "colab": {
          "base_uri": "https://localhost:8080/"
        },
        "id": "Q1zYpobxO8Td",
        "outputId": "bee74999-3604-4f8b-e7a0-5ef839bcd77b"
      },
      "execution_count": null,
      "outputs": [
        {
          "output_type": "stream",
          "name": "stdout",
          "text": [
            "[3, 1, 4, 1, 5, 9, 2, 6, 5, 3, 5, 8, 9, 7, 9]\n"
          ]
        }
      ]
    },
    {
      "cell_type": "markdown",
      "source": [
        "## 04. 元素記号\n",
        "“Hi He Lied Because Boron Could Not Oxidize Fluorine. New Nations Might Also Sign Peace Security Clause. Arthur King Can.”  \n",
        "という文を単語に分解し，1, 5, 6, 7, 8, 9, 15, 16, 19番目の単語は先頭の1文字，それ以外の単語は先頭の2文字を取り出し，取り出した文字列から単語の位置（先頭から何番目の単語か）への連想配列（辞書型もしくはマップ型）を作成せよ．"
      ],
      "metadata": {
        "id": "SDpR_6VkuOYw"
      }
    },
    {
      "cell_type": "code",
      "source": [
        "def extract_chars(i: int, word: str) -> tuple[str, int]:\n",
        "    if i in [1, 5, 6, 7, 8, 9, 15, 16, 19]:\n",
        "        return (word[0], i)\n",
        "    else:\n",
        "        return (word[:2], i)\n",
        "\n",
        "\n",
        "raw_text: str = \"Hi He Lied Because Boron Could Not Oxidize Fluorine. New Nations Might Also Sign Peace Security Clause. Arthur King Can.\"\n",
        "\n",
        "new_dict: dict = {}\n",
        "text: str = raw_text.replace(\".\", \"\").replace(\",\", \"\")\n",
        "\n",
        "ans: list[tuple[str, int]] = [extract_chars(i, w) for i, w in enumerate(text.split(), 1)]\n",
        "print(dict(ans))"
      ],
      "metadata": {
        "colab": {
          "base_uri": "https://localhost:8080/"
        },
        "id": "TzdBp8SiwR56",
        "outputId": "a2a62862-9dff-483e-9bf4-39905addb801"
      },
      "execution_count": null,
      "outputs": [
        {
          "output_type": "stream",
          "name": "stdout",
          "text": [
            "{'H': 1, 'He': 2, 'Li': 3, 'Be': 4, 'B': 5, 'C': 6, 'N': 7, 'O': 8, 'F': 9, 'Ne': 10, 'Na': 11, 'Mi': 12, 'Al': 13, 'Si': 14, 'P': 15, 'S': 16, 'Cl': 17, 'Ar': 18, 'K': 19, 'Ca': 20}\n"
          ]
        }
      ]
    },
    {
      "cell_type": "code",
      "source": [
        "raw_text: str = \"Hi He Lied Because Boron Could Not Oxidize Flourine. New Nations Might Also Sign Peace Security Clause. Arthur King Can.\"\n",
        "text: str = raw_text.replace(\".\", \"\").replace(\",\", \"\")\n",
        "\n",
        "special_indices: set[int] = {1, 5, 6, 7, 8, 9, 15, 16, 19}\n",
        "\n",
        "result_dict: dict[str, int] = {\n",
        "    word[0] if i in special_indices else word[:2]: i\n",
        "    for i, word in enumerate(text.split(), 1)\n",
        "}\n",
        "\n",
        "print(result_dict)"
      ],
      "metadata": {
        "colab": {
          "base_uri": "https://localhost:8080/"
        },
        "id": "xkt-xMo5VOhK",
        "outputId": "384cd475-ae3b-4eb9-94ac-66030a53c300"
      },
      "execution_count": null,
      "outputs": [
        {
          "output_type": "stream",
          "name": "stdout",
          "text": [
            "{'H': 1, 'He': 2, 'Li': 3, 'Be': 4, 'B': 5, 'C': 6, 'N': 7, 'O': 8, 'F': 9, 'Ne': 10, 'Na': 11, 'Mi': 12, 'Al': 13, 'Si': 14, 'P': 15, 'S': 16, 'Cl': 17, 'Ar': 18, 'K': 19, 'Ca': 20}\n"
          ]
        }
      ]
    },
    {
      "cell_type": "markdown",
      "source": [
        "## 05.n-gram\n",
        "与えられたシーケンス（文字列やリストなど）からn-gramを作る関数を作成せよ．  \n",
        "この関数を用い，”I am an NLPer”という文から単語tri-gram，文字bi-gramを得よ．"
      ],
      "metadata": {
        "id": "CLcInIBlN34W"
      }
    },
    {
      "cell_type": "code",
      "source": [
        "from typing import List, Any, Union\n",
        "\n",
        "def n_gram(target: Union[List[Any], str], n: int) -> Union[List[List[Any]], List[str]]:\n",
        "    return [target[idx: idx + n] for idx in range(len(target) - n + 1)]\n",
        "\n",
        "\n",
        "text: str = \"I am an NLPer\"\n",
        "for i in range(1, 4):\n",
        "    print(n_gram(text, i))\n",
        "    print(n_gram(text.split(\" \"), i))"
      ],
      "metadata": {
        "colab": {
          "base_uri": "https://localhost:8080/"
        },
        "id": "vBVuKdP7N4hs",
        "outputId": "ff0cf4e5-ccb1-4d98-88ce-3df7a3927445"
      },
      "execution_count": null,
      "outputs": [
        {
          "output_type": "stream",
          "name": "stdout",
          "text": [
            "['I', ' ', 'a', 'm', ' ', 'a', 'n', ' ', 'N', 'L', 'P', 'e', 'r']\n",
            "[['I'], ['am'], ['an'], ['NLPer']]\n",
            "['I ', ' a', 'am', 'm ', ' a', 'an', 'n ', ' N', 'NL', 'LP', 'Pe', 'er']\n",
            "[['I', 'am'], ['am', 'an'], ['an', 'NLPer']]\n",
            "['I a', ' am', 'am ', 'm a', ' an', 'an ', 'n N', ' NL', 'NLP', 'LPe', 'Per']\n",
            "[['I', 'am', 'an'], ['am', 'an', 'NLPer']]\n"
          ]
        }
      ]
    },
    {
      "cell_type": "markdown",
      "source": [
        "## 06. 集合Permalink\n",
        "“paraparaparadise”と”paragraph”に含まれる文字bi-gramの集合を，それぞれ, XとYとして求め，XとYの和集合，積集合，差集合を求めよ．  \n",
        "さらに，’se’というbi-gramがXおよびYに含まれるかどうかを調べよ．"
      ],
      "metadata": {
        "id": "SsoEpE_vcQ5-"
      }
    },
    {
      "cell_type": "code",
      "source": [
        "from typing import List, Any, Set, Union\n",
        "\n",
        "def n_gram(target: Union[List[Any], str], n: int) -> Union[List[List[Any]], List[str]]:\n",
        "    return [target[idx:(idx + n)] for idx in range(len(target) - n + 1)]\n",
        "\n",
        "\n",
        "X_text: str = \"paraparaparadise\"\n",
        "Y_text: str = \"paragraph\"\n",
        "\n",
        "X: List[str] = n_gram(X_text, 2)\n",
        "Y: List[str] = n_gram(Y_text, 2)\n",
        "\n",
        "print(f\"和集合: {set(X) | set(Y)}\")\n",
        "print(f\"積集合: {set(X) & set(Y)}\")\n",
        "print(f\"差集合: {set(X) - set(Y)}\")\n",
        "print('se' in (set(X) & set(Y)))"
      ],
      "metadata": {
        "id": "HTXqziHCcXLb",
        "colab": {
          "base_uri": "https://localhost:8080/"
        },
        "outputId": "aa4ad764-e87a-4d5b-dd69-fe9be0077c10"
      },
      "execution_count": null,
      "outputs": [
        {
          "output_type": "stream",
          "name": "stdout",
          "text": [
            "和集合: {'ar', 'ph', 'ap', 'is', 'se', 'di', 'ad', 'gr', 'ag', 'ra', 'pa'}\n",
            "積集合: {'ar', 'ra', 'ap', 'pa'}\n",
            "差集合: {'se', 'di', 'is', 'ad'}\n",
            "False\n"
          ]
        }
      ]
    },
    {
      "cell_type": "markdown",
      "source": [
        "## 07. テンプレートによる文生成Permalink\n",
        "引数x, y, zを受け取り「x時のyはz」という文字列を返す関数を実装せよ．  \n",
        "さらに，x=12, y=”気温”, z=22.4として，実行結果を確認せよ．"
      ],
      "metadata": {
        "id": "Zoq8YbzPceZg"
      }
    },
    {
      "cell_type": "code",
      "source": [
        "from typing import Union\n",
        "\n",
        "def generate_text(x: int, y: str, z: Union[int, float, str]) -> str:\n",
        "    return f\"{x} 時の {y} は {z}\"\n",
        "\n",
        "x: int = 12\n",
        "y: str = '気温'\n",
        "z: float = 22.4\n",
        "\n",
        "print(generate_text(x, y, z))"
      ],
      "metadata": {
        "id": "F4-105DfclfT",
        "colab": {
          "base_uri": "https://localhost:8080/"
        },
        "outputId": "0e361cf4-4102-4603-d729-19820b12e37f"
      },
      "execution_count": null,
      "outputs": [
        {
          "output_type": "stream",
          "name": "stdout",
          "text": [
            "12 時の 気温 は 22.4\n"
          ]
        }
      ]
    },
    {
      "cell_type": "markdown",
      "source": [
        "## 08. 暗号文\n",
        "与えられた文字列の各文字を，以下の仕様で変換する関数cipherを実装せよ．\n",
        "\n",
        "  - 英小文字ならば(219 - 文字コード)の文字に置換\n",
        "  - その他の文字はそのまま出力  \n",
        "\n",
        "この関数を用い，英語のメッセージを暗号化・復号化せよ．"
      ],
      "metadata": {
        "id": "DS8FBVFQckTf"
      }
    },
    {
      "cell_type": "code",
      "source": [
        "def cipher(text: str) -> str:\n",
        "    text: str = [chr(219 - ord(w)) if (97 <= ord(w) <= 122) else w for w in text]\n",
        "    return text\n",
        "\n",
        "\n",
        "text: str = \"this is a message\"\n",
        "ans = cipher(text)\n",
        "print(ans)\n",
        "print(cipher(ans))"
      ],
      "metadata": {
        "colab": {
          "base_uri": "https://localhost:8080/"
        },
        "id": "MGqA-RK_4-Jh",
        "outputId": "7d36e515-ed6e-499e-c650-26b276167fbe"
      },
      "execution_count": null,
      "outputs": [
        {
          "output_type": "stream",
          "name": "stdout",
          "text": [
            "['g', 's', 'r', 'h', ' ', 'r', 'h', ' ', 'z', ' ', 'n', 'v', 'h', 'h', 'z', 't', 'v']\n",
            "['t', 'h', 'i', 's', ' ', 'i', 's', ' ', 'a', ' ', 'm', 'e', 's', 's', 'a', 'g', 'e']\n"
          ]
        }
      ]
    },
    {
      "cell_type": "markdown",
      "source": [
        "## 09. Typoglycemia\n",
        "スペースで区切られた単語列に対して，各単語の先頭と末尾の文字は残し，それ以外の文字の順序をランダムに並び替えるプログラムを作成せよ．ただし，長さが４以下の単語は並び替えないこととする．  \n",
        "適当な英語の文（例えば”I couldn’t believe that I could actually understand what I was reading : the phenomenal power of the human mind .”）を与え，その実行結果を確認せよ．"
      ],
      "metadata": {
        "id": "vuhXpWF1vq67"
      }
    },
    {
      "cell_type": "code",
      "source": [
        "from typing import List, Any, Set, Union\n",
        "import random\n",
        "\n",
        "def shuffle_word(word: str) -> str:\n",
        "    if len(word) <= 4:\n",
        "        return word\n",
        "    else:\n",
        "        start: str = word[0]\n",
        "        end: str = word[-1]\n",
        "        others: List[str] = random.sample(word[1:-1], len(word[1:-1]))\n",
        "\n",
        "    return \"\".join([start] + others + [end])\n",
        "\n",
        "\n",
        "text: str = \"I couldn’t believe that I could actually understand what I was reading : the phenomenal power of the human mind .\"\n",
        "ans: List[str] = [shuffle_word(w) for w in text.split()]\n",
        "print(\" \".join(ans))"
      ],
      "metadata": {
        "colab": {
          "base_uri": "https://localhost:8080/"
        },
        "id": "jMVfZN5XEMFW",
        "outputId": "23dcfaae-b6e6-454c-819d-6b5d2693ab9e"
      },
      "execution_count": null,
      "outputs": [
        {
          "output_type": "stream",
          "name": "stdout",
          "text": [
            "I c’ldnuot bevelie that I could altluacy utsreandnd what I was randeig : the panhmeoenl pweor of the haumn mind .\n"
          ]
        }
      ]
    }
  ]
}
